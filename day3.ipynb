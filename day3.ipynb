{
 "cells": [
  {
   "cell_type": "markdown",
   "id": "daed4943",
   "metadata": {},
   "source": [
    "Python for Everybody"
   ]
  },
  {
   "cell_type": "markdown",
   "id": "f5ef45c3",
   "metadata": {},
   "source": [
    "5) Variables, Expressions, and Statements"
   ]
  },
  {
   "cell_type": "markdown",
   "id": "79117cb3",
   "metadata": {},
   "source": [
    "6) Intermediate Expressions"
   ]
  },
  {
   "cell_type": "markdown",
   "id": "5021282d",
   "metadata": {},
   "source": [
    "7) Conditional Execution. "
   ]
  },
  {
   "cell_type": "markdown",
   "id": "6b984463",
   "metadata": {},
   "source": []
  }
 ],
 "metadata": {
  "kernelspec": {
   "display_name": "Python 3 (ipykernel)",
   "language": "python",
   "name": "python3"
  },
  "language_info": {
   "codemirror_mode": {
    "name": "ipython",
    "version": 3
   },
   "file_extension": ".py",
   "mimetype": "text/x-python",
   "name": "python",
   "nbconvert_exporter": "python",
   "pygments_lexer": "ipython3",
   "version": "3.9.13"
  }
 },
 "nbformat": 4,
 "nbformat_minor": 5
}
