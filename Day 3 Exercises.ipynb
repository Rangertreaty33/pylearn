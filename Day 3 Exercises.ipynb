{
 "cells": [
  {
   "cell_type": "code",
   "execution_count": 5,
   "id": "0efb4dee",
   "metadata": {},
   "outputs": [
    {
     "name": "stdout",
     "output_type": "stream",
     "text": [
      "Who are You?Roman\n",
      "Hello Roman\n"
     ]
    }
   ],
   "source": [
    "#Exercise 1\n",
    "name = input (\"Who are You? \" )\n",
    "print (\"Hello\", name)\n",
    "\n"
   ]
  },
  {
   "cell_type": "code",
   "execution_count": 15,
   "id": "0c4e9912",
   "metadata": {},
   "outputs": [
    {
     "name": "stdout",
     "output_type": "stream",
     "text": [
      "What is the temperature in Celsius? 50\n",
      "The temperature in Farenheit is 122.0\n"
     ]
    }
   ],
   "source": [
    "#Exercise 2\n",
    "c = input(\"What is the temperature in Celsius? \" )\n",
    "f = (int(c) * 1.8) +32\n",
    "print (\"The temperature in Farenheit is\", f)"
   ]
  }
 ],
 "metadata": {
  "kernelspec": {
   "display_name": "Python 3 (ipykernel)",
   "language": "python",
   "name": "python3"
  },
  "language_info": {
   "codemirror_mode": {
    "name": "ipython",
    "version": 3
   },
   "file_extension": ".py",
   "mimetype": "text/x-python",
   "name": "python",
   "nbconvert_exporter": "python",
   "pygments_lexer": "ipython3",
   "version": "3.9.13"
  }
 },
 "nbformat": 4,
 "nbformat_minor": 5
}
