{
 "cells": [
  {
   "cell_type": "markdown",
   "id": "fdcbd360",
   "metadata": {},
   "source": [
    "Python for Everybody "
   ]
  },
  {
   "cell_type": "code",
   "execution_count": null,
   "id": "059c603b",
   "metadata": {},
   "outputs": [],
   "source": [
    "#Day 4 \n",
    "#8 Conditional Structures\n",
    "#Tutorial 1\n",
    "    xh = input(\"Enter Hours: \")\n",
    "    xr = input (\"Enter Rate: \")\n",
    "    xp = float(xh) * float(xr)\n",
    "    print(\"Pay\",xp)\n"
   ]
  }
 ],
 "metadata": {
  "kernelspec": {
   "display_name": "Python 3.10.4 ('AI39')",
   "language": "python",
   "name": "python3"
  },
  "language_info": {
   "codemirror_mode": {
    "name": "ipython",
    "version": 3
   },
   "file_extension": ".py",
   "mimetype": "text/x-python",
   "name": "python",
   "nbconvert_exporter": "python",
   "pygments_lexer": "ipython3",
   "version": "3.10.4"
  },
  "vscode": {
   "interpreter": {
    "hash": "13dd677c859fc9c2d2bab1ff333b2b11fb8cb460a198f711e18d72abf8a3198a"
   }
  }
 },
 "nbformat": 4,
 "nbformat_minor": 5
}
