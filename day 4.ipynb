{
 "cells": [
  {
   "cell_type": "markdown",
   "id": "74416554",
   "metadata": {},
   "source": [
    "Python for Everybody "
   ]
  },
  {
   "cell_type": "code",
   "execution_count": 1,
   "id": "01373357",
   "metadata": {},
   "outputs": [
    {
     "name": "stdout",
     "output_type": "stream",
     "text": [
      "Enter Hours:20\n",
      "Enter Rate:15.75\n",
      "Regular\n",
      "Pay: 315.0\n"
     ]
    }
   ],
   "source": [
    "#8) More conditional Structures\n",
    "#Activity 1\n",
    "sh = input(\"Enter Hours:\")\n",
    "sr = input(\"Enter Rate:\")\n",
    "fh = float(sh)\n",
    "fr = float(sr)\n",
    "# print(fh, fr)\n",
    "if fh > 40 :\n",
    "    print (\"Overtime\")\n",
    "    reg = fr * fh\n",
    "    otp = (fh - 40) * (fr * 0.5)\n",
    "    print(reg,otp)\n",
    "    xp = reg + otp\n",
    "else: \n",
    "    print(\"Regular\")\n",
    "    xp = fh * fr\n",
    "print(\"Pay:\",xp)"
   ]
  },
  {
   "cell_type": "code",
   "execution_count": 2,
   "id": "a3082a42",
   "metadata": {},
   "outputs": [
    {
     "name": "stdout",
     "output_type": "stream",
     "text": [
      "Enter Hours: 20\n",
      "Enter Rate: 15\n",
      "Regular\n",
      "Pay: 300.0\n"
     ]
    }
   ],
   "source": [
    "#Activity 2\n",
    "sh = input (\"Enter Hours: \")\n",
    "sr = input(\"Enter Rate: \")\n",
    "try: \n",
    "    fh = float(sh)\n",
    "    fr = float(sr)\n",
    "except: \n",
    "    print(\"Error, please enter numeric input\")\n",
    "    quit()\n",
    "#print(fh, fr) \n",
    "if fh > 40 :\n",
    "    print (\"Overtime\")\n",
    "    reg = fr * fh\n",
    "    otp = (fh - 40) * (fr * 0.5)\n",
    "    print(reg,otp)\n",
    "    xp = reg + otp\n",
    "else: \n",
    "    print(\"Regular\")\n",
    "    xp = fh * fr\n",
    "print(\"Pay:\",xp)"
   ]
  },
  {
   "cell_type": "code",
   "execution_count": null,
   "id": "80f1a941",
   "metadata": {},
   "outputs": [],
   "source": []
  }
 ],
 "metadata": {
  "kernelspec": {
   "display_name": "Python 3 (ipykernel)",
   "language": "python",
   "name": "python3"
  },
  "language_info": {
   "codemirror_mode": {
    "name": "ipython",
    "version": 3
   },
   "file_extension": ".py",
   "mimetype": "text/x-python",
   "name": "python",
   "nbconvert_exporter": "python",
   "pygments_lexer": "ipython3",
   "version": "3.9.13"
  }
 },
 "nbformat": 4,
 "nbformat_minor": 5
}
