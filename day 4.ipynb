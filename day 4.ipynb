{
 "cells": [
  {
   "cell_type": "markdown",
   "id": "fdcbd360",
   "metadata": {},
   "source": [
    "Python for Everybody "
   ]
  },
  {
   "cell_type": "code",
   "execution_count": null,
   "id": "b4e2f7f5",
   "metadata": {},
   "outputs": [],
   "source": [
    "#8) More conditional Structures\n",
    "#Activity 1\n",
    "    "
   ]
  }
 ],
 "metadata": {
  "kernelspec": {
   "display_name": "Python 3 (ipykernel)",
   "language": "python",
   "name": "python3"
  },
  "language_info": {
   "codemirror_mode": {
    "name": "ipython",
    "version": 3
   },
   "file_extension": ".py",
   "mimetype": "text/x-python",
   "name": "python",
   "nbconvert_exporter": "python",
   "pygments_lexer": "ipython3",
   "version": "3.9.13"
  }
 },
 "nbformat": 4,
 "nbformat_minor": 5
}
