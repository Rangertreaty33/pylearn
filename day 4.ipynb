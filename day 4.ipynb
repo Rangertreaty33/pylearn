{
 "cells": [
  {
   "cell_type": "markdown",
   "id": "74416554",
   "metadata": {},
   "source": [
    "Python for Everybody "
   ]
  },
  {
   "cell_type": "code",
   "execution_count": null,
   "id": "01373357",
   "metadata": {},
   "outputs": [],
   "source": [
    "#8) More conditional Structures\n",
    "#Activity 1\n",
    "sh = input(\"Enter Hours:\")\n",
    "sr = input(\"Enter Rate:\")\n",
    "fh = float(sh)\n",
    "fr = float(sr)\n",
    "# print(fh, fr)\n",
    "if fh > 40 :\n",
    "    print (\"Overtime\")\n",
    "xp = fh * fr\n",
    "print(\"Pay:\",xp)"
   ]
  }
 ],
 "metadata": {
  "kernelspec": {
   "display_name": "Python 3 (ipykernel)",
   "language": "python",
   "name": "python3"
  },
  "language_info": {
   "codemirror_mode": {
    "name": "ipython",
    "version": 3
   },
   "file_extension": ".py",
   "mimetype": "text/x-python",
   "name": "python",
   "nbconvert_exporter": "python",
   "pygments_lexer": "ipython3",
   "version": "3.9.13"
  }
 },
 "nbformat": 4,
 "nbformat_minor": 5
}
