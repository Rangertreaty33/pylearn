{
 "cells": [
  {
   "cell_type": "markdown",
   "id": "eac27ed1",
   "metadata": {},
   "source": [
    "#Python for Everybody\n",
    "\n",
    "9) Python Functions\n",
    "10) Build Your Own Functions\n"
   ]
  }
 ],
 "metadata": {
  "kernelspec": {
   "display_name": "Python 3 (ipykernel)",
   "language": "python",
   "name": "python3"
  },
  "language_info": {
   "codemirror_mode": {
    "name": "ipython",
    "version": 3
   },
   "file_extension": ".py",
   "mimetype": "text/x-python",
   "name": "python",
   "nbconvert_exporter": "python",
   "pygments_lexer": "ipython3",
   "version": "3.9.13"
  }
 },
 "nbformat": 4,
 "nbformat_minor": 5
}
