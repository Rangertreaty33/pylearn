{
 "cells": [
  {
   "cell_type": "markdown",
   "id": "eac27ed1",
   "metadata": {},
   "source": [
    "#Python for Everybody\n",
    "\n",
    "9) Python Functions\n",
    "10) Build Your Own Functions\n"
   ]
  },
  {
   "cell_type": "code",
   "execution_count": null,
   "id": "8e5c73e2",
   "metadata": {},
   "outputs": [],
   "source": [
    "#10) Build Your Own Functions\n",
    "\n",
    "#Exercise 1\n",
    "name=input('Who are you? ')\n",
    "lang=input('Enter your language: ')\n",
    "\n",
    "if lang == 'spanish':\n",
    "    print (\"Hola\", name)\n",
    "elif lang == 'french':\n",
    "    print (\"Bonjour\", name)\n",
    "else:\n",
    "    print (\"Hello\", name)\n",
    "        \n"
   ]
  }
 ],
 "metadata": {
  "kernelspec": {
   "display_name": "Python 3 (ipykernel)",
   "language": "python",
   "name": "python3"
  },
  "language_info": {
   "codemirror_mode": {
    "name": "ipython",
    "version": 3
   },
   "file_extension": ".py",
   "mimetype": "text/x-python",
   "name": "python",
   "nbconvert_exporter": "python",
   "pygments_lexer": "ipython3",
   "version": "3.9.13"
  }
 },
 "nbformat": 4,
 "nbformat_minor": 5
}
