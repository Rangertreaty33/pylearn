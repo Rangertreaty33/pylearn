{
 "cells": [
  {
   "cell_type": "markdown",
   "id": "6e06d90d",
   "metadata": {},
   "source": [
    "\"Python For Everybody\""
   ]
  },
  {
   "cell_type": "markdown",
   "id": "ce3f5c79",
   "metadata": {},
   "source": [
    "Introduction: \n",
    "2) Hardware Architecture\n",
    "3) Python as a Language\n",
    "4) Elements of Python\n"
   ]
  }
 ],
 "metadata": {
  "kernelspec": {
   "display_name": "Python 3 (ipykernel)",
   "language": "python",
   "name": "python3"
  },
  "language_info": {
   "codemirror_mode": {
    "name": "ipython",
    "version": 3
   },
   "file_extension": ".py",
   "mimetype": "text/x-python",
   "name": "python",
   "nbconvert_exporter": "python",
   "pygments_lexer": "ipython3",
   "version": "3.9.13"
  }
 },
 "nbformat": 4,
 "nbformat_minor": 5
}
